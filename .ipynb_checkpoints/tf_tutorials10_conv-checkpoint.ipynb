{
 "cells": [
  {
   "cell_type": "code",
   "execution_count": 2,
   "metadata": {},
   "outputs": [
    {
     "ename": "SyntaxError",
     "evalue": "invalid character in identifier (<ipython-input-2-2b6886af265e>, line 19)",
     "output_type": "error",
     "traceback": [
      "\u001b[1;36m  File \u001b[1;32m\"<ipython-input-2-2b6886af265e>\"\u001b[1;36m, line \u001b[1;32m19\u001b[0m\n\u001b[1;33m    op = tf.nn.conv2d（input，filter，stride = [1,1,1,1]，padding ='VALID'）\u001b[0m\n\u001b[1;37m                                        ^\u001b[0m\n\u001b[1;31mSyntaxError\u001b[0m\u001b[1;31m:\u001b[0m invalid character in identifier\n"
     ]
    }
   ],
   "source": [
    "import tensorflow as tf\n",
    "input = tf.constant([[[[1],\n",
    "   [2],\n",
    "   [ 3]],\n",
    "\n",
    "  [[4],\n",
    "   [5],\n",
    "   [6 ]],\n",
    "\n",
    "  [[ 7],\n",
    "   [8],\n",
    "   [9]]]],dtype=tf.float32)\n",
    "filter = tf.constant([[[[1]],\n",
    "  [[2]]],\n",
    "\n",
    " [[[ 3]],\n",
    "  [[4]]]],dtype=tf.float32)\n",
    "\n",
    "op = tf.nn.conv2d(input，filter，strides = [1,1,1,1]，padding ='VALID')\n",
    "with tf.Session() as sess:\n",
    "    sess.run(init)\n",
    "    result = sess.run(op)\n",
    "    print(result)"
   ]
  },
  {
   "cell_type": "code",
   "execution_count": null,
   "metadata": {},
   "outputs": [],
   "source": []
  }
 ],
 "metadata": {
  "kernelspec": {
   "display_name": "Python 3",
   "language": "python",
   "name": "python3"
  },
  "language_info": {
   "codemirror_mode": {
    "name": "ipython",
    "version": 3
   },
   "file_extension": ".py",
   "mimetype": "text/x-python",
   "name": "python",
   "nbconvert_exporter": "python",
   "pygments_lexer": "ipython3",
   "version": "3.6.5"
  }
 },
 "nbformat": 4,
 "nbformat_minor": 2
}
