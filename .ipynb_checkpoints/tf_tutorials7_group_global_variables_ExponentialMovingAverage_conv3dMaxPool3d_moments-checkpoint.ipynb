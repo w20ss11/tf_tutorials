{
 "cells": [
  {
   "cell_type": "code",
   "execution_count": 1,
   "metadata": {
    "scrolled": true
   },
   "outputs": [
    {
     "name": "stdout",
     "output_type": "stream",
     "text": [
      "102.0\n"
     ]
    }
   ],
   "source": [
    "######### tf.group\n",
    "import tensorflow as tf\n",
    "\n",
    "sess = tf.InteractiveSession()\n",
    "var = tf.Variable(1.0,dtype=tf.float32)\n",
    "op1 = tf.assign_add(var, 1.0)\n",
    "op2 = tf.assign_add(var, 100.0)\n",
    "op3 = tf.no_op()\n",
    "\n",
    "tf.global_variables_initializer().run()\n",
    "ops = tf.group(op1,op2,op3)\n",
    "sess.run(ops)\n",
    "print(var.eval())"
   ]
  },
  {
   "cell_type": "code",
   "execution_count": 2,
   "metadata": {},
   "outputs": [
    {
     "name": "stdout",
     "output_type": "stream",
     "text": [
      "v:0\n",
      "v1:0\n",
      "v_1:0\n",
      "v1_1:0\n",
      "\n",
      "v:0\n",
      "v1:0\n",
      "global_step:0\n",
      "v_1:0\n",
      "v1_1:0\n",
      "global_step_1:0\n"
     ]
    }
   ],
   "source": [
    "###########  tf.trainable_variables() tf.global_variables\n",
    "import tensorflow as tf;    \n",
    "import numpy as np;      \n",
    "  \n",
    "v = tf.Variable(tf.constant(0.0, shape=[1], dtype=tf.float32), name='v')  \n",
    "v1 = tf.Variable(tf.constant(5, shape=[1], dtype=tf.float32), name='v1')  \n",
    "  \n",
    "global_step = tf.Variable(tf.constant(5, shape=[1], dtype=tf.float32), name='global_step', trainable=False)  \n",
    "  \n",
    "for ele1 in tf.trainable_variables():  \n",
    "    print (ele1.name)\n",
    "print()\n",
    "for ele2 in tf.global_variables():  \n",
    "    print (ele2.name)  "
   ]
  },
  {
   "cell_type": "code",
   "execution_count": 1,
   "metadata": {},
   "outputs": [
    {
     "name": "stdout",
     "output_type": "stream",
     "text": [
      "v:0\n",
      "v/ExponentialMovingAverage:0\n",
      "\n",
      "[ 4.]\n"
     ]
    }
   ],
   "source": [
    "################# tf.train.ExponentialMovingAverage\n",
    "import tensorflow as tf\n",
    "import numpy as np\n",
    "\n",
    "sess = tf.InteractiveSession()\n",
    "\n",
    "v = tf.Variable(tf.constant(4.0, shape=[1], dtype=tf.float32), name='v')\n",
    "\n",
    "ema = tf.train.ExponentialMovingAverage(0.99)\n",
    "maintain_average_op = ema.apply(tf.global_variables())\n",
    "a = tf.global_variables()\n",
    "ma = ema.average(v)\n",
    "\n",
    "tf.global_variables_initializer().run()\n",
    "for ele in a:\n",
    "    print(ele.name)\n",
    "    \n",
    "print()\n",
    "print(v.eval())\n",
    "print(ma.eval())"
   ]
  },
  {
   "cell_type": "code",
   "execution_count": 1,
   "metadata": {},
   "outputs": [
    {
     "name": "stdout",
     "output_type": "stream",
     "text": [
      "1.1\n",
      "1.29\n",
      "1.561\n",
      "\n",
      "Variable:0\n",
      "4.0\n",
      "Variable/ExponentialMovingAverage:0\n",
      "1.561\n"
     ]
    }
   ],
   "source": [
    "################# tf.train.ExponentialMovingAverage\n",
    "import tensorflow as tf\n",
    "w = tf.Variable(1.0)\n",
    "ema = tf.train.ExponentialMovingAverage(0.9)\n",
    "update = tf.assign_add(w, 1.0)\n",
    "\n",
    "with tf.control_dependencies([update]):\n",
    "    #返回一个op,这个op用来更新moving_average\n",
    "    ema_op = ema.apply([w])#这句和下面那句不能调换顺序\n",
    "# 此op用来返回当前的moving_average\n",
    "ema_val = ema.average(w)#参数不能是list，有点蛋疼\n",
    "\n",
    "with tf.Session() as sess:\n",
    "    a = tf.global_variables()\n",
    "    tf.global_variables_initializer().run()\n",
    "    for i in range(3):\n",
    "        sess.run(ema_op)\n",
    "        print(sess.run(ema_val))\n",
    "    print()\n",
    "    for ele in a:\n",
    "        print(ele.name)\n",
    "        print(ele.eval())\n",
    "# 创建一个时间序列 1 2 3 4\n",
    "#输出：\n",
    "#1.1      =0.9*1 + 0.1*2\n",
    "#1.29     =0.9*1.1+0.1*3\n",
    "#1.561    =0.9*1.29+0.1*4"
   ]
  },
  {
   "cell_type": "code",
   "execution_count": 1,
   "metadata": {},
   "outputs": [
    {
     "name": "stdout",
     "output_type": "stream",
     "text": [
      "(2, 16, 112, 112, 64)\n",
      "(2, 16, 56, 56, 64)\n",
      "(2, 16, 56, 56, 128)\n"
     ]
    }
   ],
   "source": [
    "##############  tf.nn.conv3d\n",
    "import tensorflow as tf\n",
    "import numpy as np\n",
    "\n",
    "sess = tf.InteractiveSession()\n",
    "input = np.arange(1204224).reshape([2,16,112,112,3])\n",
    "filter = np.arange(5184).reshape([3,3,3,3,64])\n",
    "\n",
    "padding = 'SAME'\n",
    "strides = [1,1,1,1,1]\n",
    "res = tf.nn.conv3d(input,filter,strides,padding)\n",
    "\n",
    "print(res.get_shape())\n",
    "\n",
    "pool = tf.nn.max_pool3d(res,ksize = [1,1,2,2,1],strides = [1,1,2,2,1],padding='SAME')\n",
    "print(pool.get_shape())\n",
    "\n",
    "w2 = np.arange(221184).reshape([3,3,3,64,128])\n",
    "res2 = tf.nn.conv3d(pool,w2,strides,padding)\n",
    "print(res2.get_shape())"
   ]
  },
  {
   "cell_type": "code",
   "execution_count": 2,
   "metadata": {},
   "outputs": [
    {
     "name": "stdout",
     "output_type": "stream",
     "text": [
      "100352\n"
     ]
    }
   ],
   "source": [
    "print(2*2*7*7*512)"
   ]
  },
  {
   "cell_type": "code",
   "execution_count": 6,
   "metadata": {},
   "outputs": [
    {
     "name": "stdout",
     "output_type": "stream",
     "text": [
      "(2, 1, 4, 4, 512)\n",
      "(2, 1, 512, 4, 4)\n",
      "[2, 1, 512, 4, 4]\n"
     ]
    }
   ],
   "source": [
    "###############  tf.nn.max_pool3d\n",
    "import tensorflow as tf\n",
    "import numpy as np\n",
    "\n",
    "x = np.arange(100352).reshape(2,2,7,7,512)\n",
    "pool = tf.nn.max_pool3d(x,ksize = [1,2,2,2,1],strides = [1,2,2,2,1],padding='SAME')\n",
    "print(pool.get_shape())\n",
    "pool = tf.transpose(pool, perm=[0,1,4,2,3])\n",
    "print(pool.get_shape())\n",
    "print(pool.get_shape().as_list())"
   ]
  },
  {
   "cell_type": "code",
   "execution_count": 1,
   "metadata": {},
   "outputs": [
    {
     "name": "stdout",
     "output_type": "stream",
     "text": [
      "[[[ 0  1  2]\n",
      "  [ 3  4  5]\n",
      "  [ 6  7  8]]\n",
      "\n",
      " [[ 9 10 11]\n",
      "  [12 13 14]\n",
      "  [15 16 17]]\n",
      "\n",
      " [[18 19 20]\n",
      "  [21 22 23]\n",
      "  [24 25 26]]]\n",
      "3\n"
     ]
    }
   ],
   "source": [
    "################## a.get_shape().ndims\n",
    "import tensorflow as tf\n",
    "import numpy as np\n",
    "\n",
    "sess = tf.InteractiveSession()\n",
    "a = np.arange(27).reshape([3,3,3])\n",
    "a = tf.convert_to_tensor(a)\n",
    "print(a.eval())\n",
    "print(a.get_shape().ndims)"
   ]
  },
  {
   "cell_type": "code",
   "execution_count": 12,
   "metadata": {
    "scrolled": false
   },
   "outputs": [
    {
     "name": "stdout",
     "output_type": "stream",
     "text": [
      "[0, 1, 2]\n",
      "[[[[ 0  1]\n",
      "   [ 2  3]]\n",
      "\n",
      "  [[ 4  5]\n",
      "   [ 6  7]]]\n",
      "\n",
      "\n",
      " [[[ 8  9]\n",
      "   [10 11]]\n",
      "\n",
      "  [[12 13]\n",
      "   [14 15]]]]\n",
      "------3--------\n",
      "[[[ 1  5]\n",
      "  [ 9 13]]\n",
      "\n",
      " [[17 21]\n",
      "  [25 29]]]\n",
      "------2--------\n",
      "[[[ 2  4]\n",
      "  [10 12]]\n",
      "\n",
      " [[18 20]\n",
      "  [26 28]]]\n",
      "------1--------\n",
      "[[[ 4  6]\n",
      "  [ 8 10]]\n",
      "\n",
      " [[20 22]\n",
      "  [24 26]]]\n",
      "------0--------\n",
      "[[[ 8 10]\n",
      "  [12 14]]\n",
      "\n",
      " [[16 18]\n",
      "  [20 22]]]\n"
     ]
    }
   ],
   "source": [
    "################### axis\n",
    "import tensorflow as tf\n",
    "import numpy as np\n",
    "sess = tf.InteractiveSession()\n",
    "img = tf.Variable(tf.convert_to_tensor(np.arange(16).reshape([2,2,2,2])))\n",
    "axis = list(range(len(img.get_shape()) - 1))\n",
    "print(axis)\n",
    "mean, variance = tf.nn.moments(img, axis)\n",
    "tf.global_variables_initializer().run()\n",
    "\n",
    "print(img.eval())\n",
    "print('------3--------')\n",
    "print(sess.run(tf.reduce_sum(img,3)))\n",
    "print('------2--------')\n",
    "print(sess.run(tf.reduce_sum(img,2)))\n",
    "print('------1--------')\n",
    "print(sess.run(tf.reduce_sum(img,1)))\n",
    "print('------0--------')\n",
    "print(sess.run(tf.reduce_sum(img,0)))\n"
   ]
  },
  {
   "cell_type": "code",
   "execution_count": 6,
   "metadata": {
    "scrolled": true
   },
   "outputs": [
    {
     "name": "stdout",
     "output_type": "stream",
     "text": [
      "[0, 1]\n",
      "[[[-0.51745361  0.78703845 -0.28692922 -0.2645447 ]\n",
      "  [-0.27363697  1.9616046  -0.07952929 -0.20902185]]\n",
      "\n",
      " [[ 2.51147103 -2.80260324  0.03841113  1.52014184]\n",
      "  [-0.71927398  1.45612586  1.07170784 -0.95238084]]]\n",
      "------mean-----------\n",
      "(4,)\n",
      "[ 0.25027663  0.35054141  0.18591511  0.02354862]\n",
      "------vari-----------\n",
      "(4,)\n",
      "[ 1.72923088  3.48767304  0.27510718  0.83232915]\n"
     ]
    }
   ],
   "source": [
    "################ tf.nn.moments\n",
    "import tensorflow as tf\n",
    "\n",
    "img = tf.Variable(tf.random_normal([2,2,4]))\n",
    "axis = list(range(len(img.get_shape()) - 1))\n",
    "mean, variance = tf.nn.moments(img, axis)\n",
    "print(axis)\n",
    "sess = tf.InteractiveSession()\n",
    "tf.global_variables_initializer().run()\n",
    "\n",
    "print(img.eval())\n",
    "print('------mean-----------')\n",
    "print(mean.get_shape())\n",
    "print(mean.eval())\n",
    "print('------vari-----------')\n",
    "print(variance.get_shape())\n",
    "print(variance.eval())"
   ]
  },
  {
   "cell_type": "code",
   "execution_count": 8,
   "metadata": {},
   "outputs": [
    {
     "data": {
      "text/plain": [
       "0.25027661749999996"
      ]
     },
     "execution_count": 8,
     "metadata": {},
     "output_type": "execute_result"
    }
   ],
   "source": [
    "#-0.51745361-0.27363697+2.51147103-0.71927398\n",
    "1.0011064699999999/4"
   ]
  },
  {
   "cell_type": "code",
   "execution_count": 1,
   "metadata": {},
   "outputs": [
    {
     "name": "stdout",
     "output_type": "stream",
     "text": [
      "[0, 1, 2]\n",
      "[ -8.67179711e-04  -2.37519387e-03  -3.43308086e-03  -2.99280393e-03\n",
      "   2.66283314e-05  -9.49081557e-04   3.88997258e-03   2.60121142e-03\n",
      "   9.87584121e-04  -6.85347302e-04   2.63960217e-03  -3.50445713e-04\n",
      "   9.36817261e-04   1.72128517e-03  -2.12114374e-03  -1.27304392e-03\n",
      "  -1.10820401e-03  -4.19131899e-03  -1.93832475e-05  -1.29306762e-04\n",
      "  -5.57611790e-03  -3.42080428e-04   1.92669639e-03  -3.96887248e-04\n",
      "   5.20647923e-03  -7.20892742e-04   3.14607983e-03   2.36615026e-03\n",
      "  -8.03037663e-04  -2.72341282e-03   1.91440675e-04  -2.44098855e-03\n",
      "   5.47786942e-04  -9.43349907e-04  -1.41827588e-03  -3.64326173e-04\n",
      "   7.30846950e-04  -4.51498805e-03   3.13573866e-03   1.80195807e-03\n",
      "  -6.79371820e-04   7.76889327e-04   3.83072719e-03   1.82744092e-03\n",
      "  -1.25084957e-03   5.90366661e-04  -2.00457507e-04   2.89174123e-03\n",
      "   2.98392819e-03   1.26337260e-03   1.44310307e-03  -3.27450084e-03\n",
      "  -6.76838390e-04  -4.37516673e-03  -1.26826938e-03  -2.21414003e-03\n",
      "  -3.63026047e-03   2.34366744e-03  -3.12859984e-03   2.16564396e-03\n",
      "  -3.44159757e-03   2.42875866e-03  -2.45915772e-03  -3.91316647e-03]\n",
      "\n",
      "[ 1.00247335  1.00374699  0.9998638   1.00407755  0.99966443  0.99846715\n",
      "  1.00017083  1.00022399  1.00079024  0.99922609  1.00509632  1.00113511\n",
      "  0.99864763  0.99895841  1.00080693  0.99594235  0.9974789   0.99658012\n",
      "  1.00206649  1.00630999  0.99602169  0.99797136  1.0062176   1.00288558\n",
      "  1.00164044  0.999183    0.99406391  1.00426304  0.99906868  0.99186826\n",
      "  0.99720311  1.00156951  1.00097096  1.00102651  1.00483131  1.00518918\n",
      "  0.99694198  1.00202143  0.99823707  0.99623936  1.00222492  1.00111389\n",
      "  0.99886131  0.99891979  0.99731743  0.99983168  1.00181615  0.99906707\n",
      "  0.99815732  0.99852806  1.00255883  0.99818152  0.9990257   1.00431645\n",
      "  1.00164402  1.00125229  0.9955731   1.00229883  1.00084484  1.00079072\n",
      "  0.99455857  1.00111711  0.99966365  0.99615794]\n",
      "(64,)\n"
     ]
    }
   ],
   "source": [
    "################## tf.nn.moments\n",
    "import tensorflow as tf\n",
    "\n",
    "img = tf.Variable(tf.random_normal([128,32,32,64]))\n",
    "axis = list(range(len(img.get_shape()) - 1))\n",
    "mean, variance = tf.nn.moments(img, axis)\n",
    "print(axis)\n",
    "sess = tf.InteractiveSession()\n",
    "tf.global_variables_initializer().run()\n",
    "print(mean.eval())\n",
    "print()\n",
    "print(variance.eval())\n",
    "print(variance.get_shape())"
   ]
  },
  {
   "cell_type": "code",
   "execution_count": null,
   "metadata": {
    "collapsed": true
   },
   "outputs": [],
   "source": []
  }
 ],
 "metadata": {
  "kernelspec": {
   "display_name": "Python 3",
   "language": "python",
   "name": "python3"
  },
  "language_info": {
   "codemirror_mode": {
    "name": "ipython",
    "version": 3
   },
   "file_extension": ".py",
   "mimetype": "text/x-python",
   "name": "python",
   "nbconvert_exporter": "python",
   "pygments_lexer": "ipython3",
   "version": "3.5.3"
  }
 },
 "nbformat": 4,
 "nbformat_minor": 2
}
