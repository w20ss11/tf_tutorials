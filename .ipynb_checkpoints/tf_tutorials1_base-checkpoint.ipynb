{
 "cells": [
  {
   "cell_type": "code",
   "execution_count": 36,
   "metadata": {},
   "outputs": [
    {
     "name": "stdout",
     "output_type": "stream",
     "text": [
      "[ 4.  4.  4.  4.]\n",
      "Tensor(\"Softmax_8:0\", shape=(4, 4), dtype=float64)\n",
      "<class 'tensorflow.python.framework.ops.Tensor'>\n"
     ]
    },
    {
     "data": {
      "text/plain": [
       "array([[ 0.25,  0.25,  0.25,  0.25],\n",
       "       [ 0.25,  0.25,  0.25,  0.25],\n",
       "       [ 0.25,  0.25,  0.25,  0.25],\n",
       "       [ 0.25,  0.25,  0.25,  0.25]])"
      ]
     },
     "execution_count": 36,
     "metadata": {},
     "output_type": "execute_result"
    }
   ],
   "source": [
    "import tensorflow as tf\n",
    "import numpy as np\n",
    "\n",
    "y = np.array([[1.,1.,1.,1.],[1.,1.,1.,1.],[1.,1.,1.,1.],[1.,1.,1.,1.]])\n",
    "sess = tf.Session()\n",
    "print(sess.run(tf.reduce_sum(y,-1)))\n",
    "z = tf.nn.softmax(y)\n",
    "\n",
    "print(z)\n",
    "print(type(z))\n",
    "sess = tf.Session()\n",
    "sess.run(z)"
   ]
  },
  {
   "cell_type": "code",
   "execution_count": 37,
   "metadata": {},
   "outputs": [
    {
     "name": "stdout",
     "output_type": "stream",
     "text": [
      "(4,)\n"
     ]
    },
    {
     "data": {
      "text/plain": [
       "array([[ 0.25,  0.25,  0.25,  0.25],\n",
       "       [ 0.25,  0.25,  0.25,  0.25],\n",
       "       [ 0.25,  0.25,  0.25,  0.25],\n",
       "       [ 0.25,  0.25,  0.25,  0.25]])"
      ]
     },
     "execution_count": 37,
     "metadata": {},
     "output_type": "execute_result"
    }
   ],
   "source": [
    "x = np.array([[1.,1.,1.,1.],[1.,1.,1.,1.],[1.,1.,1.,1.],[1.,1.,1.,1.]])\n",
    "m = tf.exp(x)\n",
    "softmax = tf.exp(x)/tf.reduce_sum(tf.exp(x),-1)\n",
    "print((tf.reduce_sum(tf.exp(x),-1)).shape)\n",
    "sess = tf.Session()\n",
    "sess.run(softmax)"
   ]
  },
  {
   "cell_type": "code",
   "execution_count": 31,
   "metadata": {},
   "outputs": [
    {
     "name": "stdout",
     "output_type": "stream",
     "text": [
      "<class 'tensorflow.python.framework.ops.Tensor'>\n",
      "Tensor(\"Const_8:0\", shape=(), dtype=int32)\n"
     ]
    },
    {
     "data": {
      "text/plain": [
       "2"
      ]
     },
     "execution_count": 31,
     "metadata": {},
     "output_type": "execute_result"
    }
   ],
   "source": [
    "a = tf.constant(2)\n",
    "print(type(a))\n",
    "print(a)\n",
    "sess = tf.Session()\n",
    "sess.run(a)"
   ]
  },
  {
   "cell_type": "code",
   "execution_count": 39,
   "metadata": {},
   "outputs": [
    {
     "data": {
      "text/plain": [
       "array([[ 1.        ,  0.5       ,  0.33333333,  0.25      ],\n",
       "       [ 1.        ,  1.        ,  0.33333333,  0.25      ],\n",
       "       [ 1.        ,  0.5       ,  0.33333333,  0.25      ],\n",
       "       [ 1.        ,  0.5       ,  0.33333333,  0.25      ]])"
      ]
     },
     "execution_count": 39,
     "metadata": {},
     "output_type": "execute_result"
    }
   ],
   "source": [
    "x = np.array([[1.,1.,1.,1.],[1.,2.,1.,1.],[1.,1.,1.,1.],[1.,1.,1.,1.]])\n",
    "div = np.array([1,2,3,4])\n",
    "x/div"
   ]
  },
  {
   "cell_type": "code",
   "execution_count": 1,
   "metadata": {},
   "outputs": [
    {
     "name": "stdout",
     "output_type": "stream",
     "text": [
      "7\n",
      "49\n",
      "[[ 0.  0.]\n",
      " [ 0.  0.]]\n"
     ]
    }
   ],
   "source": [
    "import tensorflow as tf\n",
    "sess = tf.InteractiveSession()\n",
    "a = tf.constant(10)\n",
    "b = tf.constant(3)\n",
    "c = tf.subtract(a,b)\n",
    "d = tf.pow(c,2)\n",
    "x = tf.random_normal([2,2],mean=0.0,stddev=1.0)\n",
    "print(c.eval())\n",
    "print(d.eval())\n",
    "print(x.eval())"
   ]
  },
  {
   "cell_type": "code",
   "execution_count": 18,
   "metadata": {},
   "outputs": [
    {
     "name": "stdout",
     "output_type": "stream",
     "text": [
      "500\n"
     ]
    }
   ],
   "source": [
    "import tensorflow as tf\n",
    "a = tf.constant(5)\n",
    "b = tf.multiply(a,5)\n",
    "sess = tf.Session()\n",
    "print(sess.run(b,feed_dict={a:100}))"
   ]
  },
  {
   "cell_type": "code",
   "execution_count": 2,
   "metadata": {},
   "outputs": [
    {
     "name": "stdout",
     "output_type": "stream",
     "text": [
      "[[2 2]\n",
      " [2 2]]\n",
      "10000\n"
     ]
    }
   ],
   "source": [
    "import tensorflow as tf\n",
    "import numpy as np\n",
    "sess = tf.InteractiveSession()\n",
    "a = tf.placeholder(tf.int32,shape=[2,2],name='placeholder_a')\n",
    "b = tf.placeholder(tf.int32,shape=[2,2],name='placeholder_b')\n",
    "c = tf.matmul(a,b)\n",
    "print(c.eval({a:np.ones([2,2]),b:np.ones([2,2])}))\n",
    "\n",
    "v1 = tf.Variable(3)\n",
    "v2 = v1.assign(100)\n",
    "w = tf.pow(v2,2)\n",
    "init = tf.global_variables_initializer()\n",
    "init.run()\n",
    "print(w.eval())"
   ]
  },
  {
   "cell_type": "code",
   "execution_count": 29,
   "metadata": {},
   "outputs": [
    {
     "name": "stdout",
     "output_type": "stream",
     "text": [
      "3.0\n",
      "----------------------\n",
      "2\n",
      "3\n",
      "[ True False False False  True]\n",
      "[ 1.  0.  0.  0.  1.]\n"
     ]
    }
   ],
   "source": [
    "import tensorflow as tf\n",
    "import numpy as np\n",
    "sess = tf.InteractiveSession()\n",
    "a = np.array([2,2,3,3,4,4],np.float32)\n",
    "a = tf.reduce_mean(a)\n",
    "#a = tf.log(a)\n",
    "print(a.eval())\n",
    "print('----------------------')\n",
    "\n",
    "m = np.array([1,0,5,0,0],np.int32)\n",
    "n = np.array([1,1,0,5,0],np.int32)\n",
    "temp = tf.argmax(m,0)\n",
    "print(temp.eval())\n",
    "print(tf.argmax(n,0).eval())\n",
    "match = tf.equal(m,n)\n",
    "print(match.eval())\n",
    "print(tf.cast(match,tf.float32).eval())"
   ]
  },
  {
   "cell_type": "code",
   "execution_count": null,
   "metadata": {
    "collapsed": true
   },
   "outputs": [],
   "source": []
  }
 ],
 "metadata": {
  "kernelspec": {
   "display_name": "Python 3",
   "language": "python",
   "name": "python3"
  },
  "language_info": {
   "codemirror_mode": {
    "name": "ipython",
    "version": 3
   },
   "file_extension": ".py",
   "mimetype": "text/x-python",
   "name": "python",
   "nbconvert_exporter": "python",
   "pygments_lexer": "ipython3",
   "version": "3.5.3"
  }
 },
 "nbformat": 4,
 "nbformat_minor": 2
}
