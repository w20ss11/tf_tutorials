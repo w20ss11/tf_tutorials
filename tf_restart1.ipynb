{
 "cells": [
  {
   "cell_type": "code",
   "execution_count": 6,
   "metadata": {
    "collapsed": true
   },
   "outputs": [],
   "source": [
    "import tensorflow as tf\n",
    "import numpy as np"
   ]
  },
  {
   "cell_type": "code",
   "execution_count": 12,
   "metadata": {},
   "outputs": [
    {
     "name": "stdout",
     "output_type": "stream",
     "text": [
      "Tensor(\"zeros_9:0\", shape=(2, 3), dtype=float32) Tensor(\"ones_8:0\", shape=(3, 2), dtype=float32) Tensor(\"Const_14:0\", shape=(2,), dtype=int32)\n"
     ]
    }
   ],
   "source": [
    "# tensor 和 operation\n",
    "a = tf.zeros([2,3])\n",
    "b = tf.ones([3,2])\n",
    "c = tf.constant([1,23])\n",
    "print(a,b,c)\n",
    "\n",
    "d = np.array([[33,3,3],[2,2,2]])\n",
    "d = tf.convert_to_tensor(d,dtype = tf.float32)\n",
    "\n",
    "\n",
    "aa = tf.reduce_sum(a)\n",
    "cc = tf.add(a,d)"
   ]
  },
  {
   "cell_type": "code",
   "execution_count": 18,
   "metadata": {},
   "outputs": [
    {
     "name": "stdout",
     "output_type": "stream",
     "text": [
      "0.0\n",
      "[[ 33.   3.   3.]\n",
      " [  2.   2.   2.]]\n",
      "6.0\n"
     ]
    }
   ],
   "source": [
    "# session\n",
    "sess = tf.Session()\n",
    "print(sess.run(aa))\n",
    "print(sess.run(cc))\n",
    "\n",
    "print(sess.run(aa,feed_dict={a:np.ones([2,3])}))\n",
    "sess.close()"
   ]
  },
  {
   "cell_type": "code",
   "execution_count": 19,
   "metadata": {},
   "outputs": [
    {
     "data": {
      "text/plain": [
       "8"
      ]
     },
     "execution_count": 19,
     "metadata": {},
     "output_type": "execute_result"
    }
   ],
   "source": [
    "# placeholder\n",
    "a = tf.placeholder(tf.int32,shape=[2],name='input')\n",
    "b = tf.reduce_sum(a,name='sum')\n",
    "sess = tf.Session()\n",
    "sess.run(b,feed_dict={a:np.array([2,6])})"
   ]
  },
  {
   "cell_type": "code",
   "execution_count": 29,
   "metadata": {},
   "outputs": [
    {
     "name": "stdout",
     "output_type": "stream",
     "text": [
      "2\n",
      "1\n",
      "2\n"
     ]
    }
   ],
   "source": [
    "# Variable  ### tensor是不可变的 Variable是可变的\n",
    "a = tf.constant(1)\n",
    "a = a*2\n",
    "print(sess.run(a))\n",
    "\n",
    "b = tf.Variable(1)\n",
    "b.assign(b*2)\n",
    "b_two = b.assign(b*2)\n",
    "init = tf.global_variables_initializer()\n",
    "sess.run(init)\n",
    "print(sess.run(b))\n",
    "print(sess.run(b_two))\n",
    "sess.close()"
   ]
  },
  {
   "cell_type": "code",
   "execution_count": 31,
   "metadata": {},
   "outputs": [
    {
     "data": {
      "text/plain": [
       "5"
      ]
     },
     "execution_count": 31,
     "metadata": {},
     "output_type": "execute_result"
    }
   ],
   "source": [
    "# graph\n",
    "g = tf.Graph()\n",
    "with g.as_default():\n",
    "    a = tf.add(2,3)\n",
    "sess = tf.Session(graph=g)\n",
    "sess.run(a)"
   ]
  },
  {
   "cell_type": "code",
   "execution_count": 36,
   "metadata": {},
   "outputs": [],
   "source": [
    "# name_scope\n",
    "g1 = tf.Graph()\n",
    "with g1.as_default():\n",
    "    with tf.name_scope(\"scope_1\"):\n",
    "        a = tf.add(1,2,name=\"add\")\n",
    "        b = tf.multiply(a,3,name=\"mul\")\n",
    "writer = tf.summary.FileWriter('./scope_1',graph=g1)\n",
    "writer.close()"
   ]
  },
  {
   "cell_type": "code",
   "execution_count": null,
   "metadata": {
    "collapsed": true
   },
   "outputs": [],
   "source": []
  }
 ],
 "metadata": {
  "kernelspec": {
   "display_name": "Python 3",
   "language": "python",
   "name": "python3"
  },
  "language_info": {
   "codemirror_mode": {
    "name": "ipython",
    "version": 3
   },
   "file_extension": ".py",
   "mimetype": "text/x-python",
   "name": "python",
   "nbconvert_exporter": "python",
   "pygments_lexer": "ipython3",
   "version": "3.5.3"
  }
 },
 "nbformat": 4,
 "nbformat_minor": 2
}
