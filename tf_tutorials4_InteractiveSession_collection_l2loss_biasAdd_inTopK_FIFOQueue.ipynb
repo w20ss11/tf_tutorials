{
 "cells": [
  {
   "cell_type": "code",
   "execution_count": 25,
   "metadata": {},
   "outputs": [
    {
     "data": {
      "text/plain": [
       "array([[ 1.,  1.]], dtype=float32)"
      ]
     },
     "execution_count": 25,
     "metadata": {},
     "output_type": "execute_result"
    }
   ],
   "source": [
    "import tensorflow as tf\n",
    "sess = tf.InteractiveSession()\n",
    "a = tf.constant(1.0,shape = [2,2])\n",
    "tf.global_variables_initializer().run()\n",
    "a.eval()"
   ]
  },
  {
   "cell_type": "code",
   "execution_count": 26,
   "metadata": {},
   "outputs": [
    {
     "name": "stdout",
     "output_type": "stream",
     "text": [
      "var:\n",
      "[[ 0.48688594  0.12387454 -0.28428075 -0.15835166  0.51630539]\n",
      " [ 0.26394051  0.63391739  0.28149346 -0.15570714  0.2803525 ]\n",
      " [ 0.33287415  0.10751921  0.0802837   0.31196964  0.06149322]\n",
      " [ 0.05600385 -0.39538905  0.01656845  0.37422109  0.2319731 ]\n",
      " [-0.0335922   0.67162383  0.54189664 -0.12770496 -0.69404393]]\n",
      "1.55292\n",
      "[[ 2.  2.]]\n",
      "4.0\n"
     ]
    }
   ],
   "source": [
    "import tensorflow as tf\n",
    "sess = tf.InteractiveSession()\n",
    "var = tf.Variable(tf.truncated_normal([5,5],stddev=0.5))\n",
    "print('var:')\n",
    "\n",
    "t1 = tf.constant(2.0,shape = [1,2])\n",
    "\n",
    "tf.global_variables_initializer().run()\n",
    "print(var.eval())\n",
    "\n",
    "weight = tf.nn.l2_loss(var)\n",
    "print(weight.eval())\n",
    "\n",
    "print(t1.eval())\n",
    "print(tf.nn.l2_loss(t1).eval())\n"
   ]
  },
  {
   "cell_type": "code",
   "execution_count": 1,
   "metadata": {},
   "outputs": [
    {
     "name": "stdout",
     "output_type": "stream",
     "text": [
      "[<tf.Tensor 'Const_1:0' shape=(1,) dtype=float32>]\n",
      "Tensor(\"Const_1:0\", shape=(1,), dtype=float32)\n"
     ]
    }
   ],
   "source": [
    "import tensorflow as tf\n",
    "sess = tf.InteractiveSession()\n",
    "a = tf.constant(1.2,shape = [1])\n",
    "b = tf.constant(2.3,shape = [1])\n",
    "tf.add_to_collection('co1',a)\n",
    "tf.add_to_collection('col',b)\n",
    "c = tf.get_collection('col')\n",
    "print(c)\n",
    "print(c[0])"
   ]
  },
  {
   "cell_type": "code",
   "execution_count": 1,
   "metadata": {},
   "outputs": [
    {
     "name": "stdout",
     "output_type": "stream",
     "text": [
      "\n",
      "[<tf.Tensor 'Const:0' shape=() dtype=int32>, <tf.Tensor 'Const_1:0' shape=() dtype=int32>]\n",
      "\n",
      "8\n"
     ]
    }
   ],
   "source": [
    "import tensorflow as tf\n",
    "import numpy as np\n",
    "\n",
    "\"\"\" tf.add_to_collection：把变量放入一个集合，把很多变量变成一个列表\n",
    "    tf.get_collection：从一个结合中取出全部变量，是一个列表\n",
    "    tf.add_n：把一个列表的东西都依次加起来 \"\"\"\n",
    "\n",
    "a = tf.constant(4)\n",
    "b = tf.constant(4)\n",
    "\n",
    "tf.add_to_collection('loss', a)\n",
    "tf.add_to_collection('loss', b)\n",
    "\n",
    "with tf.Session() as sess:\n",
    "    sess.run(tf.global_variables_initializer())\n",
    "    print()\n",
    "    print(tf.get_collection('loss'))\n",
    "    print()\n",
    "    print( sess.run(tf.add_n(tf.get_collection('loss'))))"
   ]
  },
  {
   "cell_type": "code",
   "execution_count": 4,
   "metadata": {},
   "outputs": [
    {
     "name": "stdout",
     "output_type": "stream",
     "text": [
      "bias_add:\n",
      "[[ 3.  3.]\n",
      " [ 3.  3.]\n",
      " [ 3.  3.]]\n",
      "add:\n",
      "[[ 2.  3.]\n",
      " [ 2.  3.]\n",
      " [ 2.  3.]]\n"
     ]
    }
   ],
   "source": [
    "#!/usr/bin/env python\n",
    "# -*- coding: utf-8 -*-\n",
    "\n",
    "import tensorflow as tf \n",
    "\n",
    "a = tf.constant([[1.0, 2.0],[1.0, 2.0],[1.0, 2.0]]) \n",
    "b = tf.constant([2.0,1.0])  \n",
    "c = tf.constant([1.0])\n",
    "sess = tf.Session()\n",
    "print('bias_add:')\n",
    "print(sess.run(tf.nn.bias_add(a, b)))\n",
    "# 因为 a 最后一维的维度是 2 ，但是 c 的维度是 1，所以以下语句将发生错误\n",
    "#print(sess.run(tf.nn.bias_add(a, c)))\n",
    "# 但是 tf.add() 可以正确运行\n",
    "print('add:')\n",
    "print(sess.run(tf.add(a, c)))"
   ]
  },
  {
   "cell_type": "code",
   "execution_count": 10,
   "metadata": {},
   "outputs": [
    {
     "name": "stdout",
     "output_type": "stream",
     "text": [
      "[[ 2.  2.]\n",
      " [ 2.  2.]]\n",
      "[[ 4.  4.]\n",
      " [ 4.  4.]]\n",
      "\n",
      "(2, 2)\n",
      "2\n"
     ]
    }
   ],
   "source": [
    "import tensorflow as tf\n",
    "sess = tf.InteractiveSession()\n",
    "a = tf.constant(2.0,shape=[2,2])\n",
    "print(a.eval())\n",
    "b = a**2\n",
    "print(b.eval())\n",
    "\n",
    "print()\n",
    "print(b.get_shape())\n",
    "print(b.get_shape()[0].value)"
   ]
  },
  {
   "cell_type": "code",
   "execution_count": 23,
   "metadata": {},
   "outputs": [
    {
     "name": "stdout",
     "output_type": "stream",
     "text": [
      "[[ 1.  2.  3.  4.  5.  6.  7.  8.]\n",
      " [ 8.  7.  6.  5.  4.  3.  2.  1.]]\n",
      "[False  True]\n"
     ]
    }
   ],
   "source": [
    "import tensorflow as tf\n",
    "sess = tf.InteractiveSession()\n",
    "a = tf.constant([[1,2,3,4,5,6,7,8],[8,7,6,5,4,3,2,1]],tf.float32)\n",
    "b = tf.constant([2,3])\n",
    "print(a.eval())\n",
    "c = tf.nn.in_top_k(predictions = a,targets = b,k = 4)\n",
    "print(c.eval())"
   ]
  },
  {
   "cell_type": "code",
   "execution_count": 8,
   "metadata": {},
   "outputs": [
    {
     "name": "stdout",
     "output_type": "stream",
     "text": [
      "3\n",
      "0.3\n",
      "1.1\n",
      "1.2\n"
     ]
    }
   ],
   "source": [
    "#-*- coding:utf-8 -*-\n",
    "import tensorflow as tf\n",
    "\n",
    "#创建的图:一个先入先出队列,以及初始化,出队,+1,入队操作\n",
    "q = tf.FIFOQueue(3, \"float\")\n",
    "init = q.enqueue_many(([0.1, 0.2, 0.3],))\n",
    "x = q.dequeue()\n",
    "y = x + 1\n",
    "q_inc = q.enqueue([y])\n",
    "\n",
    "#开启一个session,session是会话,会话的潜在含义是状态保持,各种tensor的状态保持\n",
    "with tf.Session() as sess:\n",
    "        sess.run(init)\n",
    "\n",
    "        for i in range(2):\n",
    "                sess.run(q_inc)\n",
    "\n",
    "        quelen =  sess.run(q.size())\n",
    "        print (quelen)\n",
    "        \n",
    "        #打印队列里的数据\n",
    "        for i in range(quelen):\n",
    "                print (sess.run(q.dequeue()))"
   ]
  },
  {
   "cell_type": "code",
   "execution_count": 1,
   "metadata": {
    "collapsed": true
   },
   "outputs": [
    {
     "name": "stdout",
     "output_type": "stream",
     "text": [
      "WARNING:tensorflow:From <ipython-input-1-e56fa4dafb95>:20: initialize_all_variables (from tensorflow.python.ops.variables) is deprecated and will be removed after 2017-03-02.\n",
      "Instructions for updating:\n",
      "Use `tf.global_variables_initializer` instead.\n",
      "----------------------:\n",
      "2.0\n",
      "----------------------:\n",
      "4.0\n",
      "----------------------:\n",
      "7.0\n",
      "----------------------:\n",
      "13.0\n",
      "----------------------:\n",
      "15.0\n",
      "----------------------:\n",
      "23.0\n",
      "----------------------:\n",
      "32.0\n",
      "----------------------:\n",
      "38.0\n",
      "----------------------:\n",
      "42.0\n",
      "----------------------:\n",
      "46.0\n",
      "ERROR:tensorflow:Exception in QueueRunner: Attempted to use a closed Session.\n",
      "ERROR:tensorflow:Exception in QueueRunner: Attempted to use a closed Session.\n"
     ]
    },
    {
     "name": "stderr",
     "output_type": "stream",
     "text": [
      "Exception in thread Thread-7:\n",
      "Traceback (most recent call last):\n",
      "  File \"C:\\Users\\hndnkj\\Anaconda3\\envs\\tensorflow\\lib\\threading.py\", line 914, in _bootstrap_inner\n",
      "    self.run()\n",
      "  File \"C:\\Users\\hndnkj\\Anaconda3\\envs\\tensorflow\\lib\\threading.py\", line 862, in run\n",
      "    self._target(*self._args, **self._kwargs)\n",
      "  File \"C:\\Users\\hndnkj\\Anaconda3\\envs\\tensorflow\\lib\\site-packages\\tensorflow\\python\\training\\queue_runner_impl.py\", line 234, in _run\n",
      "    sess.run(enqueue_op)\n",
      "  File \"C:\\Users\\hndnkj\\Anaconda3\\envs\\tensorflow\\lib\\site-packages\\tensorflow\\python\\client\\session.py\", line 778, in run\n",
      "    run_metadata_ptr)\n",
      "  File \"C:\\Users\\hndnkj\\Anaconda3\\envs\\tensorflow\\lib\\site-packages\\tensorflow\\python\\client\\session.py\", line 914, in _run\n",
      "    raise RuntimeError('Attempted to use a closed Session.')\n",
      "RuntimeError: Attempted to use a closed Session.\n",
      "Exception in thread Thread-6:\n",
      "Traceback (most recent call last):\n",
      "  File \"C:\\Users\\hndnkj\\Anaconda3\\envs\\tensorflow\\lib\\threading.py\", line 914, in _bootstrap_inner\n",
      "    self.run()\n",
      "  File \"C:\\Users\\hndnkj\\Anaconda3\\envs\\tensorflow\\lib\\threading.py\", line 862, in run\n",
      "    self._target(*self._args, **self._kwargs)\n",
      "  File \"C:\\Users\\hndnkj\\Anaconda3\\envs\\tensorflow\\lib\\site-packages\\tensorflow\\python\\training\\queue_runner_impl.py\", line 234, in _run\n",
      "    sess.run(enqueue_op)\n",
      "  File \"C:\\Users\\hndnkj\\Anaconda3\\envs\\tensorflow\\lib\\site-packages\\tensorflow\\python\\client\\session.py\", line 778, in run\n",
      "    run_metadata_ptr)\n",
      "  File \"C:\\Users\\hndnkj\\Anaconda3\\envs\\tensorflow\\lib\\site-packages\\tensorflow\\python\\client\\session.py\", line 914, in _run\n",
      "    raise RuntimeError('Attempted to use a closed Session.')\n",
      "RuntimeError: Attempted to use a closed Session.\n",
      "\n",
      "\n"
     ]
    }
   ],
   "source": [
    "#-*- coding:utf-8 -*-\n",
    "import tensorflow as tf\n",
    "import sys\n",
    "#创建稍微复杂一点的队列作为例子\n",
    "q = tf.FIFOQueue(1000,\"float\")\n",
    "#计数器\n",
    "counter = tf.Variable(0.0)\n",
    "#操作:给计数器加一\n",
    "increment_op = tf.assign_add(counter,tf.constant(1.0))\n",
    "#操作:将计数器加入队列\n",
    "enqueue_op = q.enqueue(counter)\n",
    "\n",
    "#创建一个队列管理器QueueRunner，用这两个操作向q中添加元素。目前我们只使用一个线程:\n",
    "qr = tf.train.QueueRunner(q,enqueue_ops=[increment_op,enqueue_op]*1)\n",
    "\n",
    "\n",
    "#从队列管理器中创建线程，并启动:\n",
    "#主线程\n",
    "with tf.Session() as sess:\n",
    "        sess.run(tf.initialize_all_variables())\n",
    "        enqueue_threads = qr.create_threads(sess, start=True)  # 启动入队线程\n",
    "        #主线程\n",
    "        for i in range(10):\n",
    "                print(\"----------------------:\")\n",
    "                print((sess.run(q.dequeue())))\n"
   ]
  },
  {
   "cell_type": "code",
   "execution_count": 14,
   "metadata": {
    "scrolled": false
   },
   "outputs": [
    {
     "name": "stdout",
     "output_type": "stream",
     "text": [
      "1.0\n",
      "2.0\n",
      "4.0\n",
      "22.0\n",
      "22.0\n",
      "23.0\n",
      "29.0\n",
      "31.0\n",
      "33.0\n",
      "48.0\n"
     ]
    }
   ],
   "source": [
    "#-*- coding:utf-8 -*-\n",
    "import tensorflow as tf\n",
    "import sys\n",
    "#创建稍微复杂一点的队列作为例子\n",
    "q = tf.FIFOQueue(1000,\"float\")\n",
    "#计数器\n",
    "counter = tf.Variable(0.0)\n",
    "#操作:给计数器加一\n",
    "increment_op = tf.assign_add(counter,tf.constant(1.0))\n",
    "#操作:将计数器加入队列\n",
    "enqueue_op = q.enqueue(counter)\n",
    "\n",
    "#创建一个队列管理器QueueRunner，用这两个操作向q中添加元素。目前我们只使用一个线程:\n",
    "qr = tf.train.QueueRunner(q,enqueue_ops=[[increment_op,enqueue_op]]*1)\n",
    "\n",
    "# 主线程\n",
    "sess = tf.Session()\n",
    "sess.run(tf.global_variables_initializer())\n",
    "\n",
    "enqueue_threads = qr.create_threads(sess, start=True)  # 启动入队线程\n",
    "\n",
    "# 主线程\n",
    "for i in range(0, 10):\n",
    "    print(sess.run(q.dequeue()))\n"
   ]
  },
  {
   "cell_type": "code",
   "execution_count": null,
   "metadata": {
    "collapsed": true
   },
   "outputs": [],
   "source": []
  },
  {
   "cell_type": "code",
   "execution_count": null,
   "metadata": {},
   "outputs": [
    {
     "name": "stdout",
     "output_type": "stream",
     "text": [
      "WARNING:tensorflow:From <ipython-input-12-9d3ab901ecd7>:18: initialize_all_variables (from tensorflow.python.ops.variables) is deprecated and will be removed after 2017-03-02.\n",
      "Instructions for updating:\n",
      "Use `tf.global_variables_initializer` instead.\n",
      "-------------------------\n"
     ]
    }
   ],
   "source": [
    "#-*- coding:utf-8 -*-\n",
    "import tensorflow as tf\n",
    "import sys\n",
    "#创建稍微复杂一点的队列作为例子\n",
    "q = tf.FIFOQueue(1000,\"float\")\n",
    "#计数器\n",
    "counter = tf.Variable(0.0)\n",
    "#操作:给计数器加一\n",
    "increment_op = tf.assign_add(counter,tf.constant(1.0))\n",
    "#操作:将计数器加入队列\n",
    "enqueue_op = q.enqueue(counter)\n",
    "\n",
    "#创建一个队列管理器QueueRunner，用这两个操作向q中添加元素。目前我们只使用一个线程:\n",
    "qr = tf.train.QueueRunner(q,enqueue_ops=[increment_op,enqueue_op]*1)\n",
    "\n",
    "# 主线程\n",
    "sess = tf.Session()\n",
    "sess.run(tf.initialize_all_variables())\n",
    "\n",
    "#enqueue_threads = qr.create_threads(sess, start=True)  # 启动入队线程\n",
    "\n",
    "# 主线程\n",
    "for i in range(0, 10):\n",
    "    print(\"-------------------------\")\n",
    "    print(sess.run(q.dequeue()))\n"
   ]
  },
  {
   "cell_type": "code",
   "execution_count": 12,
   "metadata": {},
   "outputs": [
    {
     "name": "stdout",
     "output_type": "stream",
     "text": [
      "-------------------------\n",
      "6.0\n",
      "-------------------------\n",
      "7.0\n",
      "-------------------------\n",
      "8.0\n",
      "-------------------------\n",
      "9.0\n",
      "-------------------------\n",
      "10.0\n",
      "-------------------------\n",
      "12.0\n",
      "-------------------------\n",
      "23.0\n",
      "-------------------------\n",
      "28.0\n",
      "-------------------------\n",
      "28.0\n",
      "-------------------------\n",
      "34.0\n"
     ]
    }
   ],
   "source": [
    "#-*- coding:utf-8 -*-\n",
    "import tensorflow as tf\n",
    "import sys\n",
    "#创建稍微复杂一点的队列作为例子\n",
    "q = tf.FIFOQueue(1000,\"float\")\n",
    "#计数器\n",
    "counter = tf.Variable(0.0)\n",
    "#操作:给计数器加一\n",
    "increment_op = tf.assign_add(counter,tf.constant(1.0))\n",
    "enqueue_op = q.enqueue(counter) # 操作：计数器值加入队列\n",
    "#操作:将计数器加入队列\n",
    "qr = tf.train.QueueRunner(q, enqueue_ops=[increment_op, enqueue_op] * 1)\n",
    "\n",
    "# 主线程\n",
    "sess = tf.Session()\n",
    "sess.run(tf.global_variables_initializer())\n",
    "\n",
    "#Coordinator:协调器,协调线程间的关系,可以视为一种信号量,用来做同步\n",
    "coord = tf.train.Coordinator()\n",
    "\n",
    "## 启动入队线程, Coordinator是线程的参数\n",
    "enqueue_threads = qr.create_threads(sess, coord = coord,start=True)  # 启动入队线程\n",
    "\n",
    "# 主线程\n",
    "for i in range(0, 10):\n",
    "    print(\"-------------------------\")\n",
    "    print(sess.run(q.dequeue()))\n",
    "\n",
    "#通知其他线程关闭\n",
    "coord.request_stop()\n",
    "#其他所有线程关闭之后，这一函数才能返回\n",
    "#join操作经常用在线程当中,其作用是等待某线程结束\n",
    "coord.join(enqueue_threads)"
   ]
  },
  {
   "cell_type": "code",
   "execution_count": null,
   "metadata": {},
   "outputs": [],
   "source": []
  },
  {
   "cell_type": "code",
   "execution_count": null,
   "metadata": {
    "collapsed": true
   },
   "outputs": [],
   "source": []
  }
 ],
 "metadata": {
  "kernelspec": {
   "display_name": "Python 3",
   "language": "python",
   "name": "python3"
  },
  "language_info": {
   "codemirror_mode": {
    "name": "ipython",
    "version": 3
   },
   "file_extension": ".py",
   "mimetype": "text/x-python",
   "name": "python",
   "nbconvert_exporter": "python",
   "pygments_lexer": "ipython3",
   "version": "3.5.3"
  }
 },
 "nbformat": 4,
 "nbformat_minor": 2
}
