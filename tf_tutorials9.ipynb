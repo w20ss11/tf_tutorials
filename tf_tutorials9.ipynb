{
 "cells": [
  {
   "cell_type": "code",
   "execution_count": 1,
   "metadata": {
    "collapsed": true
   },
   "outputs": [],
   "source": [
    "import tensorflow as tf\n",
    "import numpy as np"
   ]
  },
  {
   "cell_type": "code",
   "execution_count": 3,
   "metadata": {},
   "outputs": [
    {
     "name": "stdout",
     "output_type": "stream",
     "text": [
      "[[[[ 0  1]\n",
      "   [ 2  3]]\n",
      "\n",
      "  [[ 4  5]\n",
      "   [ 6  7]]]\n",
      "\n",
      "\n",
      " [[[ 8  9]\n",
      "   [10 11]]\n",
      "\n",
      "  [[12 13]\n",
      "   [14 15]]]]\n"
     ]
    }
   ],
   "source": [
    "a = np.arange(16).reshape([2,2,2,2])\n",
    "print(a)\n",
    "# print(a[:,0])"
   ]
  },
  {
   "cell_type": "code",
   "execution_count": 4,
   "metadata": {},
   "outputs": [
    {
     "name": "stdout",
     "output_type": "stream",
     "text": [
      "[[[[  0   1]\n",
      "   [  4   9]]\n",
      "\n",
      "  [[ 16  25]\n",
      "   [ 36  49]]]\n",
      "\n",
      "\n",
      " [[[ 64  81]\n",
      "   [100 121]]\n",
      "\n",
      "  [[144 169]\n",
      "   [196 225]]]]\n",
      "[[[[  0.           0.99999994]\n",
      "   [  1.99999988   2.99999976]]\n",
      "\n",
      "  [[  3.99999976   5.        ]\n",
      "   [  5.99999952   6.99999952]]]\n",
      "\n",
      "\n",
      " [[[  7.99999952   8.99999905]\n",
      "   [ 10.          10.99999905]]\n",
      "\n",
      "  [[ 11.99999905  12.99999905]\n",
      "   [ 13.99999905  14.99999905]]]]\n"
     ]
    }
   ],
   "source": [
    "sess = tf.InteractiveSession()\n",
    "b = tf.square(a)\n",
    "print(b.eval())\n",
    "b = tf.cast(b,dtype=tf.float32)\n",
    "e = tf.sqrt(b)\n",
    "print(e.eval())"
   ]
  },
  {
   "cell_type": "code",
   "execution_count": 7,
   "metadata": {},
   "outputs": [
    {
     "name": "stdout",
     "output_type": "stream",
     "text": [
      "(2, 2, 2, 2)\n",
      "[[[[ 2  4]]\n",
      "\n",
      "  [[10 12]]]\n",
      "\n",
      "\n",
      " [[[18 20]]\n",
      "\n",
      "  [[26 28]]]]\n",
      "(2, 2, 1, 2)\n"
     ]
    }
   ],
   "source": [
    "a = tf.convert_to_tensor(a)\n",
    "print(a.get_shape())\n",
    "a = tf.reduce_sum(a,-2,keep_dims = True)\n",
    "print(a.eval())\n",
    "print(a.get_shape())"
   ]
  },
  {
   "cell_type": "code",
   "execution_count": 14,
   "metadata": {},
   "outputs": [
    {
     "name": "stdout",
     "output_type": "stream",
     "text": [
      "[[1 2 3]\n",
      " [1 2 3]]\n",
      "[[1 2 3]\n",
      " [1 2 3]\n",
      " [1 2 3]\n",
      " [1 2 3]]\n",
      "[[1 2 3 1 2 3]\n",
      " [1 2 3 1 2 3]\n",
      " [1 2 3 1 2 3]\n",
      " [1 2 3 1 2 3]]\n"
     ]
    }
   ],
   "source": [
    "# tf.tile\n",
    "import tensorflow as tf\n",
    "temp = tf.tile([[1,2,3],[1,2,3]],[1,1])\n",
    "temp2 = tf.tile([[1,2,3],[1,2,3]],[2,1])\n",
    "temp3 = tf.tile([[1,2,3],[1,2,3]],[2,2])\n",
    "with tf.Session() as sess:\n",
    "    print(sess.run(temp))\n",
    "    print(sess.run(temp2))\n",
    "    print(sess.run(temp3))"
   ]
  },
  {
   "cell_type": "code",
   "execution_count": 5,
   "metadata": {},
   "outputs": [
    {
     "name": "stdout",
     "output_type": "stream",
     "text": [
      "(10, 16, 1)\n"
     ]
    }
   ],
   "source": [
    "x = np.ones([10,16,1])\n",
    "y = tf.nn.softmax(x)\n",
    "sess = tf.InteractiveSession()\n",
    "print(y.get_shape())"
   ]
  },
  {
   "cell_type": "code",
   "execution_count": 7,
   "metadata": {},
   "outputs": [
    {
     "name": "stdout",
     "output_type": "stream",
     "text": [
      "(2, 3)\n"
     ]
    }
   ],
   "source": [
    "x1 = np.ones([2,3])\n",
    "x2 = np.ones([2,3])\n",
    "x3 = tf.multiply(x1,x2)\n",
    "print(x3.get_shape())"
   ]
  },
  {
   "cell_type": "code",
   "execution_count": null,
   "metadata": {
    "collapsed": true
   },
   "outputs": [],
   "source": []
  }
 ],
 "metadata": {
  "kernelspec": {
   "display_name": "Python 3",
   "language": "python",
   "name": "python3"
  },
  "language_info": {
   "codemirror_mode": {
    "name": "ipython",
    "version": 3
   },
   "file_extension": ".py",
   "mimetype": "text/x-python",
   "name": "python",
   "nbconvert_exporter": "python",
   "pygments_lexer": "ipython3",
   "version": "3.5.3"
  }
 },
 "nbformat": 4,
 "nbformat_minor": 2
}
